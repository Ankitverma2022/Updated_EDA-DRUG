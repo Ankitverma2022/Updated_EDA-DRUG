{
 "cells": [
  {
   "cell_type": "markdown",
   "id": "6f154a66",
   "metadata": {},
   "source": [
    "# We are going to Perform EDA on Dataset *Drug200*\n",
    "##Data source: This data set can be found on kaggle->\" https://www.kaggle.com/datasets/taranomtorabi/drug200 \"\n",
    "\n",
    "Project title: \"Drug Analysis\" \n",
    "Author: \"Ankit Verma\" \n",
    "\n"
   ]
  },
  {
   "cell_type": "raw",
   "id": "ce1d89ce",
   "metadata": {},
   "source": [
    "# First We are going to load Libraries "
   ]
  },
  {
   "cell_type": "code",
   "execution_count": 1,
   "id": "8868d063",
   "metadata": {},
   "outputs": [
    {
     "name": "stderr",
     "output_type": "stream",
     "text": [
      "Registered S3 methods overwritten by 'ggplot2':\n",
      "  method         from \n",
      "  [.quosures     rlang\n",
      "  c.quosures     rlang\n",
      "  print.quosures rlang\n",
      "Registered S3 method overwritten by 'rvest':\n",
      "  method            from\n",
      "  read_xml.response xml2\n",
      "-- Attaching packages --------------------------------------- tidyverse 1.2.1 --\n",
      "v ggplot2 3.1.1       v purrr   0.3.2  \n",
      "v tibble  2.1.1       v dplyr   0.8.0.1\n",
      "v tidyr   0.8.3       v stringr 1.4.0  \n",
      "v readr   1.3.1       v forcats 0.4.0  \n",
      "-- Conflicts ------------------------------------------ tidyverse_conflicts() --\n",
      "x dplyr::filter() masks stats::filter()\n",
      "x dplyr::lag()    masks stats::lag()\n"
     ]
    }
   ],
   "source": [
    "library(\"tidyverse\")\n",
    "library(\"dplyr\")\n",
    "library(\"ggplot2\")\n",
    "library(\"readr\")"
   ]
  },
  {
   "cell_type": "code",
   "execution_count": 2,
   "id": "ba917538",
   "metadata": {},
   "outputs": [],
   "source": [
    "#Now are loading our data set in R workbook"
   ]
  },
  {
   "cell_type": "code",
   "execution_count": 3,
   "id": "b6a6f192",
   "metadata": {},
   "outputs": [],
   "source": [
    "mydata1=read.csv(\"drug200.csv\")"
   ]
  },
  {
   "cell_type": "code",
   "execution_count": 4,
   "id": "6935379f",
   "metadata": {},
   "outputs": [
    {
     "data": {
      "text/html": [
       "<table>\n",
       "<thead><tr><th scope=col>Age</th><th scope=col>Sex</th><th scope=col>BP</th><th scope=col>Cholesterol</th><th scope=col>Na_to_K</th><th scope=col>Drug</th></tr></thead>\n",
       "<tbody>\n",
       "\t<tr><td>23    </td><td>F     </td><td>HIGH  </td><td>HIGH  </td><td>25.355</td><td>drugY </td></tr>\n",
       "\t<tr><td>47    </td><td>M     </td><td>LOW   </td><td>HIGH  </td><td>13.093</td><td>drugC </td></tr>\n",
       "\t<tr><td>47    </td><td>M     </td><td>LOW   </td><td>HIGH  </td><td>10.114</td><td>drugC </td></tr>\n",
       "\t<tr><td>28    </td><td>F     </td><td>NORMAL</td><td>HIGH  </td><td> 7.798</td><td>drugX </td></tr>\n",
       "\t<tr><td>61    </td><td>F     </td><td>LOW   </td><td>HIGH  </td><td>18.043</td><td>drugY </td></tr>\n",
       "\t<tr><td>22    </td><td>F     </td><td>NORMAL</td><td>HIGH  </td><td> 8.607</td><td>drugX </td></tr>\n",
       "\t<tr><td>49    </td><td>F     </td><td>NORMAL</td><td>HIGH  </td><td>16.275</td><td>drugY </td></tr>\n",
       "\t<tr><td>41    </td><td>M     </td><td>LOW   </td><td>HIGH  </td><td>11.037</td><td>drugC </td></tr>\n",
       "\t<tr><td>60    </td><td>M     </td><td>NORMAL</td><td>HIGH  </td><td>15.171</td><td>drugY </td></tr>\n",
       "\t<tr><td>43    </td><td>M     </td><td>LOW   </td><td>NORMAL</td><td>19.368</td><td>drugY </td></tr>\n",
       "\t<tr><td>47    </td><td>F     </td><td>LOW   </td><td>HIGH  </td><td>11.767</td><td>drugC </td></tr>\n",
       "\t<tr><td>34    </td><td>F     </td><td>HIGH  </td><td>NORMAL</td><td>19.199</td><td>drugY </td></tr>\n",
       "\t<tr><td>43    </td><td>M     </td><td>LOW   </td><td>HIGH  </td><td>15.376</td><td>drugY </td></tr>\n",
       "\t<tr><td>74    </td><td>F     </td><td>LOW   </td><td>HIGH  </td><td>20.942</td><td>drugY </td></tr>\n",
       "\t<tr><td>50    </td><td>F     </td><td>NORMAL</td><td>HIGH  </td><td>12.703</td><td>drugX </td></tr>\n",
       "\t<tr><td>16    </td><td>F     </td><td>HIGH  </td><td>NORMAL</td><td>15.516</td><td>drugY </td></tr>\n",
       "\t<tr><td>69    </td><td>M     </td><td>LOW   </td><td>NORMAL</td><td>11.455</td><td>drugX </td></tr>\n",
       "\t<tr><td>43    </td><td>M     </td><td>HIGH  </td><td>HIGH  </td><td>13.972</td><td>drugA </td></tr>\n",
       "\t<tr><td>23    </td><td>M     </td><td>LOW   </td><td>HIGH  </td><td> 7.298</td><td>drugC </td></tr>\n",
       "\t<tr><td>32    </td><td>F     </td><td>HIGH  </td><td>NORMAL</td><td>25.974</td><td>drugY </td></tr>\n",
       "\t<tr><td>57    </td><td>M     </td><td>LOW   </td><td>NORMAL</td><td>19.128</td><td>drugY </td></tr>\n",
       "\t<tr><td>63    </td><td>M     </td><td>NORMAL</td><td>HIGH  </td><td>25.917</td><td>drugY </td></tr>\n",
       "\t<tr><td>47    </td><td>M     </td><td>LOW   </td><td>NORMAL</td><td>30.568</td><td>drugY </td></tr>\n",
       "\t<tr><td>48    </td><td>F     </td><td>LOW   </td><td>HIGH  </td><td>15.036</td><td>drugY </td></tr>\n",
       "\t<tr><td>33    </td><td>F     </td><td>LOW   </td><td>HIGH  </td><td>33.486</td><td>drugY </td></tr>\n",
       "\t<tr><td>28    </td><td>F     </td><td>HIGH  </td><td>NORMAL</td><td>18.809</td><td>drugY </td></tr>\n",
       "\t<tr><td>31    </td><td>M     </td><td>HIGH  </td><td>HIGH  </td><td>30.366</td><td>drugY </td></tr>\n",
       "\t<tr><td>49    </td><td>F     </td><td>NORMAL</td><td>NORMAL</td><td> 9.381</td><td>drugX </td></tr>\n",
       "\t<tr><td>39    </td><td>F     </td><td>LOW   </td><td>NORMAL</td><td>22.697</td><td>drugY </td></tr>\n",
       "\t<tr><td>45    </td><td>M     </td><td>LOW   </td><td>HIGH  </td><td>17.951</td><td>drugY </td></tr>\n",
       "\t<tr><td>...</td><td>...</td><td>...</td><td>...</td><td>...</td><td>...</td></tr>\n",
       "\t<tr><td>28    </td><td>F     </td><td>NORMAL</td><td>HIGH  </td><td>12.879</td><td>drugX </td></tr>\n",
       "\t<tr><td>45    </td><td>M     </td><td>LOW   </td><td>NORMAL</td><td>10.017</td><td>drugX </td></tr>\n",
       "\t<tr><td>39    </td><td>F     </td><td>NORMAL</td><td>NORMAL</td><td>17.225</td><td>drugY </td></tr>\n",
       "\t<tr><td>41    </td><td>F     </td><td>LOW   </td><td>NORMAL</td><td>18.739</td><td>drugY </td></tr>\n",
       "\t<tr><td>42    </td><td>M     </td><td>HIGH  </td><td>NORMAL</td><td>12.766</td><td>drugA </td></tr>\n",
       "\t<tr><td>73    </td><td>F     </td><td>HIGH  </td><td>HIGH  </td><td>18.348</td><td>drugY </td></tr>\n",
       "\t<tr><td>48    </td><td>M     </td><td>HIGH  </td><td>NORMAL</td><td>10.446</td><td>drugA </td></tr>\n",
       "\t<tr><td>25    </td><td>M     </td><td>NORMAL</td><td>HIGH  </td><td>19.011</td><td>drugY </td></tr>\n",
       "\t<tr><td>39    </td><td>M     </td><td>NORMAL</td><td>HIGH  </td><td>15.969</td><td>drugY </td></tr>\n",
       "\t<tr><td>67    </td><td>F     </td><td>NORMAL</td><td>HIGH  </td><td>15.891</td><td>drugY </td></tr>\n",
       "\t<tr><td>22    </td><td>F     </td><td>HIGH  </td><td>NORMAL</td><td>22.818</td><td>drugY </td></tr>\n",
       "\t<tr><td>59    </td><td>F     </td><td>NORMAL</td><td>HIGH  </td><td>13.884</td><td>drugX </td></tr>\n",
       "\t<tr><td>20    </td><td>F     </td><td>LOW   </td><td>NORMAL</td><td>11.686</td><td>drugX </td></tr>\n",
       "\t<tr><td>36    </td><td>F     </td><td>HIGH  </td><td>NORMAL</td><td>15.490</td><td>drugY </td></tr>\n",
       "\t<tr><td>18    </td><td>F     </td><td>HIGH  </td><td>HIGH  </td><td>37.188</td><td>drugY </td></tr>\n",
       "\t<tr><td>57    </td><td>F     </td><td>NORMAL</td><td>NORMAL</td><td>25.893</td><td>drugY </td></tr>\n",
       "\t<tr><td>70    </td><td>M     </td><td>HIGH  </td><td>HIGH  </td><td> 9.849</td><td>drugB </td></tr>\n",
       "\t<tr><td>47    </td><td>M     </td><td>HIGH  </td><td>HIGH  </td><td>10.403</td><td>drugA </td></tr>\n",
       "\t<tr><td>65    </td><td>M     </td><td>HIGH  </td><td>NORMAL</td><td>34.997</td><td>drugY </td></tr>\n",
       "\t<tr><td>64    </td><td>M     </td><td>HIGH  </td><td>NORMAL</td><td>20.932</td><td>drugY </td></tr>\n",
       "\t<tr><td>58    </td><td>M     </td><td>HIGH  </td><td>HIGH  </td><td>18.991</td><td>drugY </td></tr>\n",
       "\t<tr><td>23    </td><td>M     </td><td>HIGH  </td><td>HIGH  </td><td> 8.011</td><td>drugA </td></tr>\n",
       "\t<tr><td>72    </td><td>M     </td><td>LOW   </td><td>HIGH  </td><td>16.310</td><td>drugY </td></tr>\n",
       "\t<tr><td>72    </td><td>M     </td><td>LOW   </td><td>HIGH  </td><td> 6.769</td><td>drugC </td></tr>\n",
       "\t<tr><td>46    </td><td>F     </td><td>HIGH  </td><td>HIGH  </td><td>34.686</td><td>drugY </td></tr>\n",
       "\t<tr><td>56    </td><td>F     </td><td>LOW   </td><td>HIGH  </td><td>11.567</td><td>drugC </td></tr>\n",
       "\t<tr><td>16    </td><td>M     </td><td>LOW   </td><td>HIGH  </td><td>12.006</td><td>drugC </td></tr>\n",
       "\t<tr><td>52    </td><td>M     </td><td>NORMAL</td><td>HIGH  </td><td> 9.894</td><td>drugX </td></tr>\n",
       "\t<tr><td>23    </td><td>M     </td><td>NORMAL</td><td>NORMAL</td><td>14.020</td><td>drugX </td></tr>\n",
       "\t<tr><td>40    </td><td>F     </td><td>LOW   </td><td>NORMAL</td><td>11.349</td><td>drugX </td></tr>\n",
       "</tbody>\n",
       "</table>\n"
      ],
      "text/latex": [
       "\\begin{tabular}{r|llllll}\n",
       " Age & Sex & BP & Cholesterol & Na\\_to\\_K & Drug\\\\\n",
       "\\hline\n",
       "\t 23     & F      & HIGH   & HIGH   & 25.355 & drugY \\\\\n",
       "\t 47     & M      & LOW    & HIGH   & 13.093 & drugC \\\\\n",
       "\t 47     & M      & LOW    & HIGH   & 10.114 & drugC \\\\\n",
       "\t 28     & F      & NORMAL & HIGH   &  7.798 & drugX \\\\\n",
       "\t 61     & F      & LOW    & HIGH   & 18.043 & drugY \\\\\n",
       "\t 22     & F      & NORMAL & HIGH   &  8.607 & drugX \\\\\n",
       "\t 49     & F      & NORMAL & HIGH   & 16.275 & drugY \\\\\n",
       "\t 41     & M      & LOW    & HIGH   & 11.037 & drugC \\\\\n",
       "\t 60     & M      & NORMAL & HIGH   & 15.171 & drugY \\\\\n",
       "\t 43     & M      & LOW    & NORMAL & 19.368 & drugY \\\\\n",
       "\t 47     & F      & LOW    & HIGH   & 11.767 & drugC \\\\\n",
       "\t 34     & F      & HIGH   & NORMAL & 19.199 & drugY \\\\\n",
       "\t 43     & M      & LOW    & HIGH   & 15.376 & drugY \\\\\n",
       "\t 74     & F      & LOW    & HIGH   & 20.942 & drugY \\\\\n",
       "\t 50     & F      & NORMAL & HIGH   & 12.703 & drugX \\\\\n",
       "\t 16     & F      & HIGH   & NORMAL & 15.516 & drugY \\\\\n",
       "\t 69     & M      & LOW    & NORMAL & 11.455 & drugX \\\\\n",
       "\t 43     & M      & HIGH   & HIGH   & 13.972 & drugA \\\\\n",
       "\t 23     & M      & LOW    & HIGH   &  7.298 & drugC \\\\\n",
       "\t 32     & F      & HIGH   & NORMAL & 25.974 & drugY \\\\\n",
       "\t 57     & M      & LOW    & NORMAL & 19.128 & drugY \\\\\n",
       "\t 63     & M      & NORMAL & HIGH   & 25.917 & drugY \\\\\n",
       "\t 47     & M      & LOW    & NORMAL & 30.568 & drugY \\\\\n",
       "\t 48     & F      & LOW    & HIGH   & 15.036 & drugY \\\\\n",
       "\t 33     & F      & LOW    & HIGH   & 33.486 & drugY \\\\\n",
       "\t 28     & F      & HIGH   & NORMAL & 18.809 & drugY \\\\\n",
       "\t 31     & M      & HIGH   & HIGH   & 30.366 & drugY \\\\\n",
       "\t 49     & F      & NORMAL & NORMAL &  9.381 & drugX \\\\\n",
       "\t 39     & F      & LOW    & NORMAL & 22.697 & drugY \\\\\n",
       "\t 45     & M      & LOW    & HIGH   & 17.951 & drugY \\\\\n",
       "\t ... & ... & ... & ... & ... & ...\\\\\n",
       "\t 28     & F      & NORMAL & HIGH   & 12.879 & drugX \\\\\n",
       "\t 45     & M      & LOW    & NORMAL & 10.017 & drugX \\\\\n",
       "\t 39     & F      & NORMAL & NORMAL & 17.225 & drugY \\\\\n",
       "\t 41     & F      & LOW    & NORMAL & 18.739 & drugY \\\\\n",
       "\t 42     & M      & HIGH   & NORMAL & 12.766 & drugA \\\\\n",
       "\t 73     & F      & HIGH   & HIGH   & 18.348 & drugY \\\\\n",
       "\t 48     & M      & HIGH   & NORMAL & 10.446 & drugA \\\\\n",
       "\t 25     & M      & NORMAL & HIGH   & 19.011 & drugY \\\\\n",
       "\t 39     & M      & NORMAL & HIGH   & 15.969 & drugY \\\\\n",
       "\t 67     & F      & NORMAL & HIGH   & 15.891 & drugY \\\\\n",
       "\t 22     & F      & HIGH   & NORMAL & 22.818 & drugY \\\\\n",
       "\t 59     & F      & NORMAL & HIGH   & 13.884 & drugX \\\\\n",
       "\t 20     & F      & LOW    & NORMAL & 11.686 & drugX \\\\\n",
       "\t 36     & F      & HIGH   & NORMAL & 15.490 & drugY \\\\\n",
       "\t 18     & F      & HIGH   & HIGH   & 37.188 & drugY \\\\\n",
       "\t 57     & F      & NORMAL & NORMAL & 25.893 & drugY \\\\\n",
       "\t 70     & M      & HIGH   & HIGH   &  9.849 & drugB \\\\\n",
       "\t 47     & M      & HIGH   & HIGH   & 10.403 & drugA \\\\\n",
       "\t 65     & M      & HIGH   & NORMAL & 34.997 & drugY \\\\\n",
       "\t 64     & M      & HIGH   & NORMAL & 20.932 & drugY \\\\\n",
       "\t 58     & M      & HIGH   & HIGH   & 18.991 & drugY \\\\\n",
       "\t 23     & M      & HIGH   & HIGH   &  8.011 & drugA \\\\\n",
       "\t 72     & M      & LOW    & HIGH   & 16.310 & drugY \\\\\n",
       "\t 72     & M      & LOW    & HIGH   &  6.769 & drugC \\\\\n",
       "\t 46     & F      & HIGH   & HIGH   & 34.686 & drugY \\\\\n",
       "\t 56     & F      & LOW    & HIGH   & 11.567 & drugC \\\\\n",
       "\t 16     & M      & LOW    & HIGH   & 12.006 & drugC \\\\\n",
       "\t 52     & M      & NORMAL & HIGH   &  9.894 & drugX \\\\\n",
       "\t 23     & M      & NORMAL & NORMAL & 14.020 & drugX \\\\\n",
       "\t 40     & F      & LOW    & NORMAL & 11.349 & drugX \\\\\n",
       "\\end{tabular}\n"
      ],
      "text/markdown": [
       "\n",
       "| Age | Sex | BP | Cholesterol | Na_to_K | Drug |\n",
       "|---|---|---|---|---|---|\n",
       "| 23     | F      | HIGH   | HIGH   | 25.355 | drugY  |\n",
       "| 47     | M      | LOW    | HIGH   | 13.093 | drugC  |\n",
       "| 47     | M      | LOW    | HIGH   | 10.114 | drugC  |\n",
       "| 28     | F      | NORMAL | HIGH   |  7.798 | drugX  |\n",
       "| 61     | F      | LOW    | HIGH   | 18.043 | drugY  |\n",
       "| 22     | F      | NORMAL | HIGH   |  8.607 | drugX  |\n",
       "| 49     | F      | NORMAL | HIGH   | 16.275 | drugY  |\n",
       "| 41     | M      | LOW    | HIGH   | 11.037 | drugC  |\n",
       "| 60     | M      | NORMAL | HIGH   | 15.171 | drugY  |\n",
       "| 43     | M      | LOW    | NORMAL | 19.368 | drugY  |\n",
       "| 47     | F      | LOW    | HIGH   | 11.767 | drugC  |\n",
       "| 34     | F      | HIGH   | NORMAL | 19.199 | drugY  |\n",
       "| 43     | M      | LOW    | HIGH   | 15.376 | drugY  |\n",
       "| 74     | F      | LOW    | HIGH   | 20.942 | drugY  |\n",
       "| 50     | F      | NORMAL | HIGH   | 12.703 | drugX  |\n",
       "| 16     | F      | HIGH   | NORMAL | 15.516 | drugY  |\n",
       "| 69     | M      | LOW    | NORMAL | 11.455 | drugX  |\n",
       "| 43     | M      | HIGH   | HIGH   | 13.972 | drugA  |\n",
       "| 23     | M      | LOW    | HIGH   |  7.298 | drugC  |\n",
       "| 32     | F      | HIGH   | NORMAL | 25.974 | drugY  |\n",
       "| 57     | M      | LOW    | NORMAL | 19.128 | drugY  |\n",
       "| 63     | M      | NORMAL | HIGH   | 25.917 | drugY  |\n",
       "| 47     | M      | LOW    | NORMAL | 30.568 | drugY  |\n",
       "| 48     | F      | LOW    | HIGH   | 15.036 | drugY  |\n",
       "| 33     | F      | LOW    | HIGH   | 33.486 | drugY  |\n",
       "| 28     | F      | HIGH   | NORMAL | 18.809 | drugY  |\n",
       "| 31     | M      | HIGH   | HIGH   | 30.366 | drugY  |\n",
       "| 49     | F      | NORMAL | NORMAL |  9.381 | drugX  |\n",
       "| 39     | F      | LOW    | NORMAL | 22.697 | drugY  |\n",
       "| 45     | M      | LOW    | HIGH   | 17.951 | drugY  |\n",
       "| ... | ... | ... | ... | ... | ... |\n",
       "| 28     | F      | NORMAL | HIGH   | 12.879 | drugX  |\n",
       "| 45     | M      | LOW    | NORMAL | 10.017 | drugX  |\n",
       "| 39     | F      | NORMAL | NORMAL | 17.225 | drugY  |\n",
       "| 41     | F      | LOW    | NORMAL | 18.739 | drugY  |\n",
       "| 42     | M      | HIGH   | NORMAL | 12.766 | drugA  |\n",
       "| 73     | F      | HIGH   | HIGH   | 18.348 | drugY  |\n",
       "| 48     | M      | HIGH   | NORMAL | 10.446 | drugA  |\n",
       "| 25     | M      | NORMAL | HIGH   | 19.011 | drugY  |\n",
       "| 39     | M      | NORMAL | HIGH   | 15.969 | drugY  |\n",
       "| 67     | F      | NORMAL | HIGH   | 15.891 | drugY  |\n",
       "| 22     | F      | HIGH   | NORMAL | 22.818 | drugY  |\n",
       "| 59     | F      | NORMAL | HIGH   | 13.884 | drugX  |\n",
       "| 20     | F      | LOW    | NORMAL | 11.686 | drugX  |\n",
       "| 36     | F      | HIGH   | NORMAL | 15.490 | drugY  |\n",
       "| 18     | F      | HIGH   | HIGH   | 37.188 | drugY  |\n",
       "| 57     | F      | NORMAL | NORMAL | 25.893 | drugY  |\n",
       "| 70     | M      | HIGH   | HIGH   |  9.849 | drugB  |\n",
       "| 47     | M      | HIGH   | HIGH   | 10.403 | drugA  |\n",
       "| 65     | M      | HIGH   | NORMAL | 34.997 | drugY  |\n",
       "| 64     | M      | HIGH   | NORMAL | 20.932 | drugY  |\n",
       "| 58     | M      | HIGH   | HIGH   | 18.991 | drugY  |\n",
       "| 23     | M      | HIGH   | HIGH   |  8.011 | drugA  |\n",
       "| 72     | M      | LOW    | HIGH   | 16.310 | drugY  |\n",
       "| 72     | M      | LOW    | HIGH   |  6.769 | drugC  |\n",
       "| 46     | F      | HIGH   | HIGH   | 34.686 | drugY  |\n",
       "| 56     | F      | LOW    | HIGH   | 11.567 | drugC  |\n",
       "| 16     | M      | LOW    | HIGH   | 12.006 | drugC  |\n",
       "| 52     | M      | NORMAL | HIGH   |  9.894 | drugX  |\n",
       "| 23     | M      | NORMAL | NORMAL | 14.020 | drugX  |\n",
       "| 40     | F      | LOW    | NORMAL | 11.349 | drugX  |\n",
       "\n"
      ],
      "text/plain": [
       "    Age Sex BP     Cholesterol Na_to_K Drug \n",
       "1   23  F   HIGH   HIGH        25.355  drugY\n",
       "2   47  M   LOW    HIGH        13.093  drugC\n",
       "3   47  M   LOW    HIGH        10.114  drugC\n",
       "4   28  F   NORMAL HIGH         7.798  drugX\n",
       "5   61  F   LOW    HIGH        18.043  drugY\n",
       "6   22  F   NORMAL HIGH         8.607  drugX\n",
       "7   49  F   NORMAL HIGH        16.275  drugY\n",
       "8   41  M   LOW    HIGH        11.037  drugC\n",
       "9   60  M   NORMAL HIGH        15.171  drugY\n",
       "10  43  M   LOW    NORMAL      19.368  drugY\n",
       "11  47  F   LOW    HIGH        11.767  drugC\n",
       "12  34  F   HIGH   NORMAL      19.199  drugY\n",
       "13  43  M   LOW    HIGH        15.376  drugY\n",
       "14  74  F   LOW    HIGH        20.942  drugY\n",
       "15  50  F   NORMAL HIGH        12.703  drugX\n",
       "16  16  F   HIGH   NORMAL      15.516  drugY\n",
       "17  69  M   LOW    NORMAL      11.455  drugX\n",
       "18  43  M   HIGH   HIGH        13.972  drugA\n",
       "19  23  M   LOW    HIGH         7.298  drugC\n",
       "20  32  F   HIGH   NORMAL      25.974  drugY\n",
       "21  57  M   LOW    NORMAL      19.128  drugY\n",
       "22  63  M   NORMAL HIGH        25.917  drugY\n",
       "23  47  M   LOW    NORMAL      30.568  drugY\n",
       "24  48  F   LOW    HIGH        15.036  drugY\n",
       "25  33  F   LOW    HIGH        33.486  drugY\n",
       "26  28  F   HIGH   NORMAL      18.809  drugY\n",
       "27  31  M   HIGH   HIGH        30.366  drugY\n",
       "28  49  F   NORMAL NORMAL       9.381  drugX\n",
       "29  39  F   LOW    NORMAL      22.697  drugY\n",
       "30  45  M   LOW    HIGH        17.951  drugY\n",
       "... ... ... ...    ...         ...     ...  \n",
       "171 28  F   NORMAL HIGH        12.879  drugX\n",
       "172 45  M   LOW    NORMAL      10.017  drugX\n",
       "173 39  F   NORMAL NORMAL      17.225  drugY\n",
       "174 41  F   LOW    NORMAL      18.739  drugY\n",
       "175 42  M   HIGH   NORMAL      12.766  drugA\n",
       "176 73  F   HIGH   HIGH        18.348  drugY\n",
       "177 48  M   HIGH   NORMAL      10.446  drugA\n",
       "178 25  M   NORMAL HIGH        19.011  drugY\n",
       "179 39  M   NORMAL HIGH        15.969  drugY\n",
       "180 67  F   NORMAL HIGH        15.891  drugY\n",
       "181 22  F   HIGH   NORMAL      22.818  drugY\n",
       "182 59  F   NORMAL HIGH        13.884  drugX\n",
       "183 20  F   LOW    NORMAL      11.686  drugX\n",
       "184 36  F   HIGH   NORMAL      15.490  drugY\n",
       "185 18  F   HIGH   HIGH        37.188  drugY\n",
       "186 57  F   NORMAL NORMAL      25.893  drugY\n",
       "187 70  M   HIGH   HIGH         9.849  drugB\n",
       "188 47  M   HIGH   HIGH        10.403  drugA\n",
       "189 65  M   HIGH   NORMAL      34.997  drugY\n",
       "190 64  M   HIGH   NORMAL      20.932  drugY\n",
       "191 58  M   HIGH   HIGH        18.991  drugY\n",
       "192 23  M   HIGH   HIGH         8.011  drugA\n",
       "193 72  M   LOW    HIGH        16.310  drugY\n",
       "194 72  M   LOW    HIGH         6.769  drugC\n",
       "195 46  F   HIGH   HIGH        34.686  drugY\n",
       "196 56  F   LOW    HIGH        11.567  drugC\n",
       "197 16  M   LOW    HIGH        12.006  drugC\n",
       "198 52  M   NORMAL HIGH         9.894  drugX\n",
       "199 23  M   NORMAL NORMAL      14.020  drugX\n",
       "200 40  F   LOW    NORMAL      11.349  drugX"
      ]
     },
     "metadata": {},
     "output_type": "display_data"
    }
   ],
   "source": [
    "# Now we can view our data set \n",
    "mydata1"
   ]
  },
  {
   "cell_type": "code",
   "execution_count": 5,
   "id": "a23d2922",
   "metadata": {},
   "outputs": [
    {
     "data": {
      "text/html": [
       "<table>\n",
       "<thead><tr><th scope=col>Age</th><th scope=col>Sex</th><th scope=col>BP</th><th scope=col>Cholesterol</th><th scope=col>Na_to_K</th><th scope=col>Drug</th></tr></thead>\n",
       "<tbody>\n",
       "\t<tr><td>23    </td><td>F     </td><td>HIGH  </td><td>HIGH  </td><td>25.355</td><td>drugY </td></tr>\n",
       "\t<tr><td>47    </td><td>M     </td><td>LOW   </td><td>HIGH  </td><td>13.093</td><td>drugC </td></tr>\n",
       "\t<tr><td>47    </td><td>M     </td><td>LOW   </td><td>HIGH  </td><td>10.114</td><td>drugC </td></tr>\n",
       "\t<tr><td>28    </td><td>F     </td><td>NORMAL</td><td>HIGH  </td><td> 7.798</td><td>drugX </td></tr>\n",
       "\t<tr><td>61    </td><td>F     </td><td>LOW   </td><td>HIGH  </td><td>18.043</td><td>drugY </td></tr>\n",
       "\t<tr><td>22    </td><td>F     </td><td>NORMAL</td><td>HIGH  </td><td> 8.607</td><td>drugX </td></tr>\n",
       "</tbody>\n",
       "</table>\n"
      ],
      "text/latex": [
       "\\begin{tabular}{r|llllll}\n",
       " Age & Sex & BP & Cholesterol & Na\\_to\\_K & Drug\\\\\n",
       "\\hline\n",
       "\t 23     & F      & HIGH   & HIGH   & 25.355 & drugY \\\\\n",
       "\t 47     & M      & LOW    & HIGH   & 13.093 & drugC \\\\\n",
       "\t 47     & M      & LOW    & HIGH   & 10.114 & drugC \\\\\n",
       "\t 28     & F      & NORMAL & HIGH   &  7.798 & drugX \\\\\n",
       "\t 61     & F      & LOW    & HIGH   & 18.043 & drugY \\\\\n",
       "\t 22     & F      & NORMAL & HIGH   &  8.607 & drugX \\\\\n",
       "\\end{tabular}\n"
      ],
      "text/markdown": [
       "\n",
       "| Age | Sex | BP | Cholesterol | Na_to_K | Drug |\n",
       "|---|---|---|---|---|---|\n",
       "| 23     | F      | HIGH   | HIGH   | 25.355 | drugY  |\n",
       "| 47     | M      | LOW    | HIGH   | 13.093 | drugC  |\n",
       "| 47     | M      | LOW    | HIGH   | 10.114 | drugC  |\n",
       "| 28     | F      | NORMAL | HIGH   |  7.798 | drugX  |\n",
       "| 61     | F      | LOW    | HIGH   | 18.043 | drugY  |\n",
       "| 22     | F      | NORMAL | HIGH   |  8.607 | drugX  |\n",
       "\n"
      ],
      "text/plain": [
       "  Age Sex BP     Cholesterol Na_to_K Drug \n",
       "1 23  F   HIGH   HIGH        25.355  drugY\n",
       "2 47  M   LOW    HIGH        13.093  drugC\n",
       "3 47  M   LOW    HIGH        10.114  drugC\n",
       "4 28  F   NORMAL HIGH         7.798  drugX\n",
       "5 61  F   LOW    HIGH        18.043  drugY\n",
       "6 22  F   NORMAL HIGH         8.607  drugX"
      ]
     },
     "metadata": {},
     "output_type": "display_data"
    }
   ],
   "source": [
    "#to see first 6 rows of the data fram we are using head(mydata1)\n",
    "head(mydata1)"
   ]
  },
  {
   "cell_type": "code",
   "execution_count": 6,
   "id": "ea47ebd4",
   "metadata": {},
   "outputs": [
    {
     "data": {
      "text/html": [
       "<table>\n",
       "<thead><tr><th></th><th scope=col>Age</th><th scope=col>Sex</th><th scope=col>BP</th><th scope=col>Cholesterol</th><th scope=col>Na_to_K</th><th scope=col>Drug</th></tr></thead>\n",
       "<tbody>\n",
       "\t<tr><th scope=row>195</th><td>46    </td><td>F     </td><td>HIGH  </td><td>HIGH  </td><td>34.686</td><td>drugY </td></tr>\n",
       "\t<tr><th scope=row>196</th><td>56    </td><td>F     </td><td>LOW   </td><td>HIGH  </td><td>11.567</td><td>drugC </td></tr>\n",
       "\t<tr><th scope=row>197</th><td>16    </td><td>M     </td><td>LOW   </td><td>HIGH  </td><td>12.006</td><td>drugC </td></tr>\n",
       "\t<tr><th scope=row>198</th><td>52    </td><td>M     </td><td>NORMAL</td><td>HIGH  </td><td> 9.894</td><td>drugX </td></tr>\n",
       "\t<tr><th scope=row>199</th><td>23    </td><td>M     </td><td>NORMAL</td><td>NORMAL</td><td>14.020</td><td>drugX </td></tr>\n",
       "\t<tr><th scope=row>200</th><td>40    </td><td>F     </td><td>LOW   </td><td>NORMAL</td><td>11.349</td><td>drugX </td></tr>\n",
       "</tbody>\n",
       "</table>\n"
      ],
      "text/latex": [
       "\\begin{tabular}{r|llllll}\n",
       "  & Age & Sex & BP & Cholesterol & Na\\_to\\_K & Drug\\\\\n",
       "\\hline\n",
       "\t195 & 46     & F      & HIGH   & HIGH   & 34.686 & drugY \\\\\n",
       "\t196 & 56     & F      & LOW    & HIGH   & 11.567 & drugC \\\\\n",
       "\t197 & 16     & M      & LOW    & HIGH   & 12.006 & drugC \\\\\n",
       "\t198 & 52     & M      & NORMAL & HIGH   &  9.894 & drugX \\\\\n",
       "\t199 & 23     & M      & NORMAL & NORMAL & 14.020 & drugX \\\\\n",
       "\t200 & 40     & F      & LOW    & NORMAL & 11.349 & drugX \\\\\n",
       "\\end{tabular}\n"
      ],
      "text/markdown": [
       "\n",
       "| <!--/--> | Age | Sex | BP | Cholesterol | Na_to_K | Drug |\n",
       "|---|---|---|---|---|---|---|\n",
       "| 195 | 46     | F      | HIGH   | HIGH   | 34.686 | drugY  |\n",
       "| 196 | 56     | F      | LOW    | HIGH   | 11.567 | drugC  |\n",
       "| 197 | 16     | M      | LOW    | HIGH   | 12.006 | drugC  |\n",
       "| 198 | 52     | M      | NORMAL | HIGH   |  9.894 | drugX  |\n",
       "| 199 | 23     | M      | NORMAL | NORMAL | 14.020 | drugX  |\n",
       "| 200 | 40     | F      | LOW    | NORMAL | 11.349 | drugX  |\n",
       "\n"
      ],
      "text/plain": [
       "    Age Sex BP     Cholesterol Na_to_K Drug \n",
       "195 46  F   HIGH   HIGH        34.686  drugY\n",
       "196 56  F   LOW    HIGH        11.567  drugC\n",
       "197 16  M   LOW    HIGH        12.006  drugC\n",
       "198 52  M   NORMAL HIGH         9.894  drugX\n",
       "199 23  M   NORMAL NORMAL      14.020  drugX\n",
       "200 40  F   LOW    NORMAL      11.349  drugX"
      ]
     },
     "metadata": {},
     "output_type": "display_data"
    }
   ],
   "source": [
    "#to see first 6 rows of the data fram we are using tail(mydata1)\n",
    "tail(mydata1)"
   ]
  },
  {
   "cell_type": "raw",
   "id": "83b4bced",
   "metadata": {},
   "source": [
    "'''We have observed that our data set has 6 coloums and multiple rows\n",
    "now to get the exact details of rows and coloums'''"
   ]
  },
  {
   "cell_type": "code",
   "execution_count": 7,
   "id": "1fee1de5",
   "metadata": {},
   "outputs": [
    {
     "data": {
      "text/html": [
       "6"
      ],
      "text/latex": [
       "6"
      ],
      "text/markdown": [
       "6"
      ],
      "text/plain": [
       "[1] 6"
      ]
     },
     "metadata": {},
     "output_type": "display_data"
    },
    {
     "data": {
      "text/html": [
       "200"
      ],
      "text/latex": [
       "200"
      ],
      "text/markdown": [
       "200"
      ],
      "text/plain": [
       "[1] 200"
      ]
     },
     "metadata": {},
     "output_type": "display_data"
    }
   ],
   "source": [
    "# to see all the column from the data set\n",
    "ncol(mydata1) \n",
    "# to see all the row from the data set\n",
    "nrow(mydata1)"
   ]
  },
  {
   "cell_type": "markdown",
   "id": "e5b03721",
   "metadata": {},
   "source": [
    "Now we know that our data set has 6 coloums and 200 rows"
   ]
  },
  {
   "cell_type": "raw",
   "id": "22b89e66",
   "metadata": {},
   "source": [
    "###NOW WE ARE GOING TO FIND STATSTICAL VALUES (MEAN , MEDIAN , MAX Values in Dataset)###"
   ]
  },
  {
   "cell_type": "code",
   "execution_count": 8,
   "id": "250e087e",
   "metadata": {},
   "outputs": [
    {
     "data": {
      "text/html": [
       "74"
      ],
      "text/latex": [
       "74"
      ],
      "text/markdown": [
       "74"
      ],
      "text/plain": [
       "[1] 74"
      ]
     },
     "metadata": {},
     "output_type": "display_data"
    }
   ],
   "source": [
    "#to find out maximum values from data set(Age -max age)\n",
    "max(mydata1$Age) "
   ]
  },
  {
   "cell_type": "code",
   "execution_count": 9,
   "id": "3643f10a",
   "metadata": {},
   "outputs": [
    {
     "data": {
      "text/html": [
       "15"
      ],
      "text/latex": [
       "15"
      ],
      "text/markdown": [
       "15"
      ],
      "text/plain": [
       "[1] 15"
      ]
     },
     "metadata": {},
     "output_type": "display_data"
    }
   ],
   "source": [
    "# to find out minimum values from data set(Age -min age)\n",
    "min(mydata1$Age)"
   ]
  },
  {
   "cell_type": "code",
   "execution_count": 10,
   "id": "8608e034",
   "metadata": {},
   "outputs": [
    {
     "data": {
      "text/html": [
       "44.315"
      ],
      "text/latex": [
       "44.315"
      ],
      "text/markdown": [
       "44.315"
      ],
      "text/plain": [
       "[1] 44.315"
      ]
     },
     "metadata": {},
     "output_type": "display_data"
    }
   ],
   "source": [
    "# to find out average values of the Age's from the data set\n",
    "mean(mydata1$Age) "
   ]
  },
  {
   "cell_type": "code",
   "execution_count": 11,
   "id": "f2fe408f",
   "metadata": {},
   "outputs": [
    {
     "data": {
      "text/plain": [
       "      Age        Sex          BP     Cholesterol     Na_to_K          Drug   \n",
       " Min.   :15.00   F: 96   HIGH  :77   HIGH  :103   Min.   : 6.269   drugA:23  \n",
       " 1st Qu.:31.00   M:104   LOW   :64   NORMAL: 97   1st Qu.:10.445   drugB:16  \n",
       " Median :45.00           NORMAL:59                Median :13.937   drugC:16  \n",
       " Mean   :44.31                                    Mean   :16.084   drugX:54  \n",
       " 3rd Qu.:58.00                                    3rd Qu.:19.380   drugY:91  \n",
       " Max.   :74.00                                    Max.   :38.247             "
      ]
     },
     "metadata": {},
     "output_type": "display_data"
    }
   ],
   "source": [
    "# We can also check above details of our dataset by summary function\n",
    "summary(mydata1)"
   ]
  },
  {
   "cell_type": "code",
   "execution_count": 12,
   "id": "3faf0c77",
   "metadata": {
    "scrolled": true
   },
   "outputs": [
    {
     "data": {
      "text/html": [
       "<ol class=list-inline>\n",
       "\t<li>FALSE</li>\n",
       "\t<li>FALSE</li>\n",
       "\t<li>FALSE</li>\n",
       "\t<li>FALSE</li>\n",
       "\t<li>FALSE</li>\n",
       "\t<li>FALSE</li>\n",
       "\t<li>FALSE</li>\n",
       "\t<li>FALSE</li>\n",
       "\t<li>FALSE</li>\n",
       "\t<li>FALSE</li>\n",
       "\t<li>FALSE</li>\n",
       "\t<li>FALSE</li>\n",
       "\t<li>FALSE</li>\n",
       "\t<li>FALSE</li>\n",
       "\t<li>FALSE</li>\n",
       "\t<li>FALSE</li>\n",
       "\t<li>FALSE</li>\n",
       "\t<li>FALSE</li>\n",
       "\t<li>FALSE</li>\n",
       "\t<li>FALSE</li>\n",
       "\t<li>FALSE</li>\n",
       "\t<li>FALSE</li>\n",
       "\t<li>FALSE</li>\n",
       "\t<li>FALSE</li>\n",
       "\t<li>FALSE</li>\n",
       "\t<li>FALSE</li>\n",
       "\t<li>FALSE</li>\n",
       "\t<li>FALSE</li>\n",
       "\t<li>FALSE</li>\n",
       "\t<li>FALSE</li>\n",
       "\t<li>FALSE</li>\n",
       "\t<li>FALSE</li>\n",
       "\t<li>FALSE</li>\n",
       "\t<li>FALSE</li>\n",
       "\t<li>FALSE</li>\n",
       "\t<li>FALSE</li>\n",
       "\t<li>FALSE</li>\n",
       "\t<li>FALSE</li>\n",
       "\t<li>FALSE</li>\n",
       "\t<li>FALSE</li>\n",
       "\t<li>FALSE</li>\n",
       "\t<li>FALSE</li>\n",
       "\t<li>FALSE</li>\n",
       "\t<li>FALSE</li>\n",
       "\t<li>FALSE</li>\n",
       "\t<li>FALSE</li>\n",
       "\t<li>FALSE</li>\n",
       "\t<li>FALSE</li>\n",
       "\t<li>FALSE</li>\n",
       "\t<li>FALSE</li>\n",
       "\t<li>FALSE</li>\n",
       "\t<li>FALSE</li>\n",
       "\t<li>FALSE</li>\n",
       "\t<li>FALSE</li>\n",
       "\t<li>FALSE</li>\n",
       "\t<li>FALSE</li>\n",
       "\t<li>FALSE</li>\n",
       "\t<li>FALSE</li>\n",
       "\t<li>FALSE</li>\n",
       "\t<li>FALSE</li>\n",
       "\t<li>FALSE</li>\n",
       "\t<li>FALSE</li>\n",
       "\t<li>FALSE</li>\n",
       "\t<li>FALSE</li>\n",
       "\t<li>FALSE</li>\n",
       "\t<li>FALSE</li>\n",
       "\t<li>FALSE</li>\n",
       "\t<li>FALSE</li>\n",
       "\t<li>FALSE</li>\n",
       "\t<li>FALSE</li>\n",
       "\t<li>FALSE</li>\n",
       "\t<li>FALSE</li>\n",
       "\t<li>FALSE</li>\n",
       "\t<li>FALSE</li>\n",
       "\t<li>FALSE</li>\n",
       "\t<li>FALSE</li>\n",
       "\t<li>FALSE</li>\n",
       "\t<li>FALSE</li>\n",
       "\t<li>FALSE</li>\n",
       "\t<li>FALSE</li>\n",
       "\t<li>FALSE</li>\n",
       "\t<li>FALSE</li>\n",
       "\t<li>FALSE</li>\n",
       "\t<li>FALSE</li>\n",
       "\t<li>FALSE</li>\n",
       "\t<li>FALSE</li>\n",
       "\t<li>FALSE</li>\n",
       "\t<li>FALSE</li>\n",
       "\t<li>FALSE</li>\n",
       "\t<li>FALSE</li>\n",
       "\t<li>FALSE</li>\n",
       "\t<li>FALSE</li>\n",
       "\t<li>FALSE</li>\n",
       "\t<li>FALSE</li>\n",
       "\t<li>FALSE</li>\n",
       "\t<li>FALSE</li>\n",
       "\t<li>FALSE</li>\n",
       "\t<li>FALSE</li>\n",
       "\t<li>FALSE</li>\n",
       "\t<li>FALSE</li>\n",
       "\t<li>FALSE</li>\n",
       "\t<li>FALSE</li>\n",
       "\t<li>FALSE</li>\n",
       "\t<li>FALSE</li>\n",
       "\t<li>FALSE</li>\n",
       "\t<li>FALSE</li>\n",
       "\t<li>FALSE</li>\n",
       "\t<li>FALSE</li>\n",
       "\t<li>FALSE</li>\n",
       "\t<li>FALSE</li>\n",
       "\t<li>FALSE</li>\n",
       "\t<li>FALSE</li>\n",
       "\t<li>FALSE</li>\n",
       "\t<li>FALSE</li>\n",
       "\t<li>FALSE</li>\n",
       "\t<li>FALSE</li>\n",
       "\t<li>FALSE</li>\n",
       "\t<li>FALSE</li>\n",
       "\t<li>FALSE</li>\n",
       "\t<li>FALSE</li>\n",
       "\t<li>FALSE</li>\n",
       "\t<li>FALSE</li>\n",
       "\t<li>FALSE</li>\n",
       "\t<li>FALSE</li>\n",
       "\t<li>FALSE</li>\n",
       "\t<li>FALSE</li>\n",
       "\t<li>FALSE</li>\n",
       "\t<li>FALSE</li>\n",
       "\t<li>FALSE</li>\n",
       "\t<li>FALSE</li>\n",
       "\t<li>FALSE</li>\n",
       "\t<li>FALSE</li>\n",
       "\t<li>FALSE</li>\n",
       "\t<li>FALSE</li>\n",
       "\t<li>FALSE</li>\n",
       "\t<li>FALSE</li>\n",
       "\t<li>FALSE</li>\n",
       "\t<li>FALSE</li>\n",
       "\t<li>FALSE</li>\n",
       "\t<li>FALSE</li>\n",
       "\t<li>FALSE</li>\n",
       "\t<li>FALSE</li>\n",
       "\t<li>FALSE</li>\n",
       "\t<li>FALSE</li>\n",
       "\t<li>FALSE</li>\n",
       "\t<li>FALSE</li>\n",
       "\t<li>FALSE</li>\n",
       "\t<li>FALSE</li>\n",
       "\t<li>FALSE</li>\n",
       "\t<li>FALSE</li>\n",
       "\t<li>FALSE</li>\n",
       "\t<li>FALSE</li>\n",
       "\t<li>FALSE</li>\n",
       "\t<li>FALSE</li>\n",
       "\t<li>FALSE</li>\n",
       "\t<li>FALSE</li>\n",
       "\t<li>FALSE</li>\n",
       "\t<li>FALSE</li>\n",
       "\t<li>FALSE</li>\n",
       "\t<li>FALSE</li>\n",
       "\t<li>FALSE</li>\n",
       "\t<li>FALSE</li>\n",
       "\t<li>FALSE</li>\n",
       "\t<li>FALSE</li>\n",
       "\t<li>FALSE</li>\n",
       "\t<li>FALSE</li>\n",
       "\t<li>FALSE</li>\n",
       "\t<li>FALSE</li>\n",
       "\t<li>FALSE</li>\n",
       "\t<li>FALSE</li>\n",
       "\t<li>FALSE</li>\n",
       "\t<li>FALSE</li>\n",
       "\t<li>FALSE</li>\n",
       "\t<li>FALSE</li>\n",
       "\t<li>FALSE</li>\n",
       "\t<li>FALSE</li>\n",
       "\t<li>FALSE</li>\n",
       "\t<li>FALSE</li>\n",
       "\t<li>FALSE</li>\n",
       "\t<li>FALSE</li>\n",
       "\t<li>FALSE</li>\n",
       "\t<li>FALSE</li>\n",
       "\t<li>FALSE</li>\n",
       "\t<li>FALSE</li>\n",
       "\t<li>FALSE</li>\n",
       "\t<li>FALSE</li>\n",
       "\t<li>FALSE</li>\n",
       "\t<li>FALSE</li>\n",
       "\t<li>FALSE</li>\n",
       "\t<li>FALSE</li>\n",
       "\t<li>FALSE</li>\n",
       "\t<li>FALSE</li>\n",
       "\t<li>FALSE</li>\n",
       "\t<li>FALSE</li>\n",
       "\t<li>FALSE</li>\n",
       "\t<li>FALSE</li>\n",
       "\t<li>FALSE</li>\n",
       "\t<li>FALSE</li>\n",
       "\t<li>FALSE</li>\n",
       "\t<li>FALSE</li>\n",
       "</ol>\n"
      ],
      "text/latex": [
       "\\begin{enumerate*}\n",
       "\\item FALSE\n",
       "\\item FALSE\n",
       "\\item FALSE\n",
       "\\item FALSE\n",
       "\\item FALSE\n",
       "\\item FALSE\n",
       "\\item FALSE\n",
       "\\item FALSE\n",
       "\\item FALSE\n",
       "\\item FALSE\n",
       "\\item FALSE\n",
       "\\item FALSE\n",
       "\\item FALSE\n",
       "\\item FALSE\n",
       "\\item FALSE\n",
       "\\item FALSE\n",
       "\\item FALSE\n",
       "\\item FALSE\n",
       "\\item FALSE\n",
       "\\item FALSE\n",
       "\\item FALSE\n",
       "\\item FALSE\n",
       "\\item FALSE\n",
       "\\item FALSE\n",
       "\\item FALSE\n",
       "\\item FALSE\n",
       "\\item FALSE\n",
       "\\item FALSE\n",
       "\\item FALSE\n",
       "\\item FALSE\n",
       "\\item FALSE\n",
       "\\item FALSE\n",
       "\\item FALSE\n",
       "\\item FALSE\n",
       "\\item FALSE\n",
       "\\item FALSE\n",
       "\\item FALSE\n",
       "\\item FALSE\n",
       "\\item FALSE\n",
       "\\item FALSE\n",
       "\\item FALSE\n",
       "\\item FALSE\n",
       "\\item FALSE\n",
       "\\item FALSE\n",
       "\\item FALSE\n",
       "\\item FALSE\n",
       "\\item FALSE\n",
       "\\item FALSE\n",
       "\\item FALSE\n",
       "\\item FALSE\n",
       "\\item FALSE\n",
       "\\item FALSE\n",
       "\\item FALSE\n",
       "\\item FALSE\n",
       "\\item FALSE\n",
       "\\item FALSE\n",
       "\\item FALSE\n",
       "\\item FALSE\n",
       "\\item FALSE\n",
       "\\item FALSE\n",
       "\\item FALSE\n",
       "\\item FALSE\n",
       "\\item FALSE\n",
       "\\item FALSE\n",
       "\\item FALSE\n",
       "\\item FALSE\n",
       "\\item FALSE\n",
       "\\item FALSE\n",
       "\\item FALSE\n",
       "\\item FALSE\n",
       "\\item FALSE\n",
       "\\item FALSE\n",
       "\\item FALSE\n",
       "\\item FALSE\n",
       "\\item FALSE\n",
       "\\item FALSE\n",
       "\\item FALSE\n",
       "\\item FALSE\n",
       "\\item FALSE\n",
       "\\item FALSE\n",
       "\\item FALSE\n",
       "\\item FALSE\n",
       "\\item FALSE\n",
       "\\item FALSE\n",
       "\\item FALSE\n",
       "\\item FALSE\n",
       "\\item FALSE\n",
       "\\item FALSE\n",
       "\\item FALSE\n",
       "\\item FALSE\n",
       "\\item FALSE\n",
       "\\item FALSE\n",
       "\\item FALSE\n",
       "\\item FALSE\n",
       "\\item FALSE\n",
       "\\item FALSE\n",
       "\\item FALSE\n",
       "\\item FALSE\n",
       "\\item FALSE\n",
       "\\item FALSE\n",
       "\\item FALSE\n",
       "\\item FALSE\n",
       "\\item FALSE\n",
       "\\item FALSE\n",
       "\\item FALSE\n",
       "\\item FALSE\n",
       "\\item FALSE\n",
       "\\item FALSE\n",
       "\\item FALSE\n",
       "\\item FALSE\n",
       "\\item FALSE\n",
       "\\item FALSE\n",
       "\\item FALSE\n",
       "\\item FALSE\n",
       "\\item FALSE\n",
       "\\item FALSE\n",
       "\\item FALSE\n",
       "\\item FALSE\n",
       "\\item FALSE\n",
       "\\item FALSE\n",
       "\\item FALSE\n",
       "\\item FALSE\n",
       "\\item FALSE\n",
       "\\item FALSE\n",
       "\\item FALSE\n",
       "\\item FALSE\n",
       "\\item FALSE\n",
       "\\item FALSE\n",
       "\\item FALSE\n",
       "\\item FALSE\n",
       "\\item FALSE\n",
       "\\item FALSE\n",
       "\\item FALSE\n",
       "\\item FALSE\n",
       "\\item FALSE\n",
       "\\item FALSE\n",
       "\\item FALSE\n",
       "\\item FALSE\n",
       "\\item FALSE\n",
       "\\item FALSE\n",
       "\\item FALSE\n",
       "\\item FALSE\n",
       "\\item FALSE\n",
       "\\item FALSE\n",
       "\\item FALSE\n",
       "\\item FALSE\n",
       "\\item FALSE\n",
       "\\item FALSE\n",
       "\\item FALSE\n",
       "\\item FALSE\n",
       "\\item FALSE\n",
       "\\item FALSE\n",
       "\\item FALSE\n",
       "\\item FALSE\n",
       "\\item FALSE\n",
       "\\item FALSE\n",
       "\\item FALSE\n",
       "\\item FALSE\n",
       "\\item FALSE\n",
       "\\item FALSE\n",
       "\\item FALSE\n",
       "\\item FALSE\n",
       "\\item FALSE\n",
       "\\item FALSE\n",
       "\\item FALSE\n",
       "\\item FALSE\n",
       "\\item FALSE\n",
       "\\item FALSE\n",
       "\\item FALSE\n",
       "\\item FALSE\n",
       "\\item FALSE\n",
       "\\item FALSE\n",
       "\\item FALSE\n",
       "\\item FALSE\n",
       "\\item FALSE\n",
       "\\item FALSE\n",
       "\\item FALSE\n",
       "\\item FALSE\n",
       "\\item FALSE\n",
       "\\item FALSE\n",
       "\\item FALSE\n",
       "\\item FALSE\n",
       "\\item FALSE\n",
       "\\item FALSE\n",
       "\\item FALSE\n",
       "\\item FALSE\n",
       "\\item FALSE\n",
       "\\item FALSE\n",
       "\\item FALSE\n",
       "\\item FALSE\n",
       "\\item FALSE\n",
       "\\item FALSE\n",
       "\\item FALSE\n",
       "\\item FALSE\n",
       "\\item FALSE\n",
       "\\item FALSE\n",
       "\\item FALSE\n",
       "\\item FALSE\n",
       "\\item FALSE\n",
       "\\item FALSE\n",
       "\\end{enumerate*}\n"
      ],
      "text/markdown": [
       "1. FALSE\n",
       "2. FALSE\n",
       "3. FALSE\n",
       "4. FALSE\n",
       "5. FALSE\n",
       "6. FALSE\n",
       "7. FALSE\n",
       "8. FALSE\n",
       "9. FALSE\n",
       "10. FALSE\n",
       "11. FALSE\n",
       "12. FALSE\n",
       "13. FALSE\n",
       "14. FALSE\n",
       "15. FALSE\n",
       "16. FALSE\n",
       "17. FALSE\n",
       "18. FALSE\n",
       "19. FALSE\n",
       "20. FALSE\n",
       "21. FALSE\n",
       "22. FALSE\n",
       "23. FALSE\n",
       "24. FALSE\n",
       "25. FALSE\n",
       "26. FALSE\n",
       "27. FALSE\n",
       "28. FALSE\n",
       "29. FALSE\n",
       "30. FALSE\n",
       "31. FALSE\n",
       "32. FALSE\n",
       "33. FALSE\n",
       "34. FALSE\n",
       "35. FALSE\n",
       "36. FALSE\n",
       "37. FALSE\n",
       "38. FALSE\n",
       "39. FALSE\n",
       "40. FALSE\n",
       "41. FALSE\n",
       "42. FALSE\n",
       "43. FALSE\n",
       "44. FALSE\n",
       "45. FALSE\n",
       "46. FALSE\n",
       "47. FALSE\n",
       "48. FALSE\n",
       "49. FALSE\n",
       "50. FALSE\n",
       "51. FALSE\n",
       "52. FALSE\n",
       "53. FALSE\n",
       "54. FALSE\n",
       "55. FALSE\n",
       "56. FALSE\n",
       "57. FALSE\n",
       "58. FALSE\n",
       "59. FALSE\n",
       "60. FALSE\n",
       "61. FALSE\n",
       "62. FALSE\n",
       "63. FALSE\n",
       "64. FALSE\n",
       "65. FALSE\n",
       "66. FALSE\n",
       "67. FALSE\n",
       "68. FALSE\n",
       "69. FALSE\n",
       "70. FALSE\n",
       "71. FALSE\n",
       "72. FALSE\n",
       "73. FALSE\n",
       "74. FALSE\n",
       "75. FALSE\n",
       "76. FALSE\n",
       "77. FALSE\n",
       "78. FALSE\n",
       "79. FALSE\n",
       "80. FALSE\n",
       "81. FALSE\n",
       "82. FALSE\n",
       "83. FALSE\n",
       "84. FALSE\n",
       "85. FALSE\n",
       "86. FALSE\n",
       "87. FALSE\n",
       "88. FALSE\n",
       "89. FALSE\n",
       "90. FALSE\n",
       "91. FALSE\n",
       "92. FALSE\n",
       "93. FALSE\n",
       "94. FALSE\n",
       "95. FALSE\n",
       "96. FALSE\n",
       "97. FALSE\n",
       "98. FALSE\n",
       "99. FALSE\n",
       "100. FALSE\n",
       "101. FALSE\n",
       "102. FALSE\n",
       "103. FALSE\n",
       "104. FALSE\n",
       "105. FALSE\n",
       "106. FALSE\n",
       "107. FALSE\n",
       "108. FALSE\n",
       "109. FALSE\n",
       "110. FALSE\n",
       "111. FALSE\n",
       "112. FALSE\n",
       "113. FALSE\n",
       "114. FALSE\n",
       "115. FALSE\n",
       "116. FALSE\n",
       "117. FALSE\n",
       "118. FALSE\n",
       "119. FALSE\n",
       "120. FALSE\n",
       "121. FALSE\n",
       "122. FALSE\n",
       "123. FALSE\n",
       "124. FALSE\n",
       "125. FALSE\n",
       "126. FALSE\n",
       "127. FALSE\n",
       "128. FALSE\n",
       "129. FALSE\n",
       "130. FALSE\n",
       "131. FALSE\n",
       "132. FALSE\n",
       "133. FALSE\n",
       "134. FALSE\n",
       "135. FALSE\n",
       "136. FALSE\n",
       "137. FALSE\n",
       "138. FALSE\n",
       "139. FALSE\n",
       "140. FALSE\n",
       "141. FALSE\n",
       "142. FALSE\n",
       "143. FALSE\n",
       "144. FALSE\n",
       "145. FALSE\n",
       "146. FALSE\n",
       "147. FALSE\n",
       "148. FALSE\n",
       "149. FALSE\n",
       "150. FALSE\n",
       "151. FALSE\n",
       "152. FALSE\n",
       "153. FALSE\n",
       "154. FALSE\n",
       "155. FALSE\n",
       "156. FALSE\n",
       "157. FALSE\n",
       "158. FALSE\n",
       "159. FALSE\n",
       "160. FALSE\n",
       "161. FALSE\n",
       "162. FALSE\n",
       "163. FALSE\n",
       "164. FALSE\n",
       "165. FALSE\n",
       "166. FALSE\n",
       "167. FALSE\n",
       "168. FALSE\n",
       "169. FALSE\n",
       "170. FALSE\n",
       "171. FALSE\n",
       "172. FALSE\n",
       "173. FALSE\n",
       "174. FALSE\n",
       "175. FALSE\n",
       "176. FALSE\n",
       "177. FALSE\n",
       "178. FALSE\n",
       "179. FALSE\n",
       "180. FALSE\n",
       "181. FALSE\n",
       "182. FALSE\n",
       "183. FALSE\n",
       "184. FALSE\n",
       "185. FALSE\n",
       "186. FALSE\n",
       "187. FALSE\n",
       "188. FALSE\n",
       "189. FALSE\n",
       "190. FALSE\n",
       "191. FALSE\n",
       "192. FALSE\n",
       "193. FALSE\n",
       "194. FALSE\n",
       "195. FALSE\n",
       "196. FALSE\n",
       "197. FALSE\n",
       "198. FALSE\n",
       "199. FALSE\n",
       "200. FALSE\n",
       "\n",
       "\n"
      ],
      "text/plain": [
       "  [1] FALSE FALSE FALSE FALSE FALSE FALSE FALSE FALSE FALSE FALSE FALSE FALSE\n",
       " [13] FALSE FALSE FALSE FALSE FALSE FALSE FALSE FALSE FALSE FALSE FALSE FALSE\n",
       " [25] FALSE FALSE FALSE FALSE FALSE FALSE FALSE FALSE FALSE FALSE FALSE FALSE\n",
       " [37] FALSE FALSE FALSE FALSE FALSE FALSE FALSE FALSE FALSE FALSE FALSE FALSE\n",
       " [49] FALSE FALSE FALSE FALSE FALSE FALSE FALSE FALSE FALSE FALSE FALSE FALSE\n",
       " [61] FALSE FALSE FALSE FALSE FALSE FALSE FALSE FALSE FALSE FALSE FALSE FALSE\n",
       " [73] FALSE FALSE FALSE FALSE FALSE FALSE FALSE FALSE FALSE FALSE FALSE FALSE\n",
       " [85] FALSE FALSE FALSE FALSE FALSE FALSE FALSE FALSE FALSE FALSE FALSE FALSE\n",
       " [97] FALSE FALSE FALSE FALSE FALSE FALSE FALSE FALSE FALSE FALSE FALSE FALSE\n",
       "[109] FALSE FALSE FALSE FALSE FALSE FALSE FALSE FALSE FALSE FALSE FALSE FALSE\n",
       "[121] FALSE FALSE FALSE FALSE FALSE FALSE FALSE FALSE FALSE FALSE FALSE FALSE\n",
       "[133] FALSE FALSE FALSE FALSE FALSE FALSE FALSE FALSE FALSE FALSE FALSE FALSE\n",
       "[145] FALSE FALSE FALSE FALSE FALSE FALSE FALSE FALSE FALSE FALSE FALSE FALSE\n",
       "[157] FALSE FALSE FALSE FALSE FALSE FALSE FALSE FALSE FALSE FALSE FALSE FALSE\n",
       "[169] FALSE FALSE FALSE FALSE FALSE FALSE FALSE FALSE FALSE FALSE FALSE FALSE\n",
       "[181] FALSE FALSE FALSE FALSE FALSE FALSE FALSE FALSE FALSE FALSE FALSE FALSE\n",
       "[193] FALSE FALSE FALSE FALSE FALSE FALSE FALSE FALSE"
      ]
     },
     "metadata": {},
     "output_type": "display_data"
    }
   ],
   "source": [
    "#to check if there is a null/zero value in specific coloum (Age)\n",
    "is.na(mydata1$Age)"
   ]
  },
  {
   "cell_type": "code",
   "execution_count": 13,
   "id": "e5db0d0b",
   "metadata": {},
   "outputs": [
    {
     "data": {
      "text/html": [
       "0"
      ],
      "text/latex": [
       "0"
      ],
      "text/markdown": [
       "0"
      ],
      "text/plain": [
       "[1] 0"
      ]
     },
     "metadata": {},
     "output_type": "display_data"
    }
   ],
   "source": [
    "#to check the numerical presentation of missing values\n",
    "sum(is.na(mydata1$Age))"
   ]
  },
  {
   "cell_type": "code",
   "execution_count": 14,
   "id": "b01fec50",
   "metadata": {},
   "outputs": [
    {
     "data": {
      "text/plain": [
       "\n",
       "drugA drugB drugC drugX drugY \n",
       "   23    16    16    54    91 "
      ]
     },
     "metadata": {},
     "output_type": "display_data"
    }
   ],
   "source": [
    "# There are total 5 types of Drug present in Our dataset\n",
    "table(mydata1$Drug) "
   ]
  },
  {
   "cell_type": "code",
   "execution_count": 15,
   "id": "1fe78069",
   "metadata": {},
   "outputs": [
    {
     "data": {
      "text/html": [
       "<ol class=list-inline>\n",
       "\t<li>'Age'</li>\n",
       "\t<li>'Sex'</li>\n",
       "\t<li>'BP'</li>\n",
       "\t<li>'Cholesterol'</li>\n",
       "\t<li>'Na_to_K'</li>\n",
       "\t<li>'Drug'</li>\n",
       "</ol>\n"
      ],
      "text/latex": [
       "\\begin{enumerate*}\n",
       "\\item 'Age'\n",
       "\\item 'Sex'\n",
       "\\item 'BP'\n",
       "\\item 'Cholesterol'\n",
       "\\item 'Na\\_to\\_K'\n",
       "\\item 'Drug'\n",
       "\\end{enumerate*}\n"
      ],
      "text/markdown": [
       "1. 'Age'\n",
       "2. 'Sex'\n",
       "3. 'BP'\n",
       "4. 'Cholesterol'\n",
       "5. 'Na_to_K'\n",
       "6. 'Drug'\n",
       "\n",
       "\n"
      ],
      "text/plain": [
       "[1] \"Age\"         \"Sex\"         \"BP\"          \"Cholesterol\" \"Na_to_K\"    \n",
       "[6] \"Drug\"       "
      ]
     },
     "metadata": {},
     "output_type": "display_data"
    }
   ],
   "source": [
    "#We can use below function for finding out All the coloum names present in our dataframe\n",
    "colnames(mydata1)"
   ]
  },
  {
   "cell_type": "code",
   "execution_count": 16,
   "id": "c22d5ca1",
   "metadata": {},
   "outputs": [
    {
     "data": {
      "text/html": [
       "<table>\n",
       "<thead><tr><th scope=col>Age</th><th scope=col>Sex</th><th scope=col>BP</th><th scope=col>Cholesterol</th><th scope=col>Na_to_K</th><th scope=col>Drug</th></tr></thead>\n",
       "<tbody>\n",
       "\t<tr><td>47    </td><td>M     </td><td>LOW   </td><td>HIGH  </td><td>13.093</td><td>drugC </td></tr>\n",
       "\t<tr><td>47    </td><td>M     </td><td>LOW   </td><td>HIGH  </td><td>10.114</td><td>drugC </td></tr>\n",
       "\t<tr><td>41    </td><td>M     </td><td>LOW   </td><td>HIGH  </td><td>11.037</td><td>drugC </td></tr>\n",
       "\t<tr><td>47    </td><td>F     </td><td>LOW   </td><td>HIGH  </td><td>11.767</td><td>drugC </td></tr>\n",
       "\t<tr><td>23    </td><td>M     </td><td>LOW   </td><td>HIGH  </td><td> 7.298</td><td>drugC </td></tr>\n",
       "\t<tr><td>68    </td><td>M     </td><td>LOW   </td><td>HIGH  </td><td>10.291</td><td>drugC </td></tr>\n",
       "\t<tr><td>26    </td><td>F     </td><td>LOW   </td><td>HIGH  </td><td>14.160</td><td>drugC </td></tr>\n",
       "\t<tr><td>32    </td><td>F     </td><td>LOW   </td><td>HIGH  </td><td> 9.712</td><td>drugC </td></tr>\n",
       "\t<tr><td>47    </td><td>F     </td><td>LOW   </td><td>HIGH  </td><td>10.067</td><td>drugC </td></tr>\n",
       "\t<tr><td>28    </td><td>F     </td><td>LOW   </td><td>HIGH  </td><td>13.127</td><td>drugC </td></tr>\n",
       "\t<tr><td>22    </td><td>M     </td><td>LOW   </td><td>HIGH  </td><td> 8.151</td><td>drugC </td></tr>\n",
       "\t<tr><td>49    </td><td>M     </td><td>LOW   </td><td>HIGH  </td><td>10.537</td><td>drugC </td></tr>\n",
       "\t<tr><td>59    </td><td>F     </td><td>LOW   </td><td>HIGH  </td><td>10.444</td><td>drugC </td></tr>\n",
       "\t<tr><td>72    </td><td>M     </td><td>LOW   </td><td>HIGH  </td><td> 6.769</td><td>drugC </td></tr>\n",
       "\t<tr><td>56    </td><td>F     </td><td>LOW   </td><td>HIGH  </td><td>11.567</td><td>drugC </td></tr>\n",
       "\t<tr><td>16    </td><td>M     </td><td>LOW   </td><td>HIGH  </td><td>12.006</td><td>drugC </td></tr>\n",
       "</tbody>\n",
       "</table>\n"
      ],
      "text/latex": [
       "\\begin{tabular}{r|llllll}\n",
       " Age & Sex & BP & Cholesterol & Na\\_to\\_K & Drug\\\\\n",
       "\\hline\n",
       "\t 47     & M      & LOW    & HIGH   & 13.093 & drugC \\\\\n",
       "\t 47     & M      & LOW    & HIGH   & 10.114 & drugC \\\\\n",
       "\t 41     & M      & LOW    & HIGH   & 11.037 & drugC \\\\\n",
       "\t 47     & F      & LOW    & HIGH   & 11.767 & drugC \\\\\n",
       "\t 23     & M      & LOW    & HIGH   &  7.298 & drugC \\\\\n",
       "\t 68     & M      & LOW    & HIGH   & 10.291 & drugC \\\\\n",
       "\t 26     & F      & LOW    & HIGH   & 14.160 & drugC \\\\\n",
       "\t 32     & F      & LOW    & HIGH   &  9.712 & drugC \\\\\n",
       "\t 47     & F      & LOW    & HIGH   & 10.067 & drugC \\\\\n",
       "\t 28     & F      & LOW    & HIGH   & 13.127 & drugC \\\\\n",
       "\t 22     & M      & LOW    & HIGH   &  8.151 & drugC \\\\\n",
       "\t 49     & M      & LOW    & HIGH   & 10.537 & drugC \\\\\n",
       "\t 59     & F      & LOW    & HIGH   & 10.444 & drugC \\\\\n",
       "\t 72     & M      & LOW    & HIGH   &  6.769 & drugC \\\\\n",
       "\t 56     & F      & LOW    & HIGH   & 11.567 & drugC \\\\\n",
       "\t 16     & M      & LOW    & HIGH   & 12.006 & drugC \\\\\n",
       "\\end{tabular}\n"
      ],
      "text/markdown": [
       "\n",
       "| Age | Sex | BP | Cholesterol | Na_to_K | Drug |\n",
       "|---|---|---|---|---|---|\n",
       "| 47     | M      | LOW    | HIGH   | 13.093 | drugC  |\n",
       "| 47     | M      | LOW    | HIGH   | 10.114 | drugC  |\n",
       "| 41     | M      | LOW    | HIGH   | 11.037 | drugC  |\n",
       "| 47     | F      | LOW    | HIGH   | 11.767 | drugC  |\n",
       "| 23     | M      | LOW    | HIGH   |  7.298 | drugC  |\n",
       "| 68     | M      | LOW    | HIGH   | 10.291 | drugC  |\n",
       "| 26     | F      | LOW    | HIGH   | 14.160 | drugC  |\n",
       "| 32     | F      | LOW    | HIGH   |  9.712 | drugC  |\n",
       "| 47     | F      | LOW    | HIGH   | 10.067 | drugC  |\n",
       "| 28     | F      | LOW    | HIGH   | 13.127 | drugC  |\n",
       "| 22     | M      | LOW    | HIGH   |  8.151 | drugC  |\n",
       "| 49     | M      | LOW    | HIGH   | 10.537 | drugC  |\n",
       "| 59     | F      | LOW    | HIGH   | 10.444 | drugC  |\n",
       "| 72     | M      | LOW    | HIGH   |  6.769 | drugC  |\n",
       "| 56     | F      | LOW    | HIGH   | 11.567 | drugC  |\n",
       "| 16     | M      | LOW    | HIGH   | 12.006 | drugC  |\n",
       "\n"
      ],
      "text/plain": [
       "   Age Sex BP  Cholesterol Na_to_K Drug \n",
       "1  47  M   LOW HIGH        13.093  drugC\n",
       "2  47  M   LOW HIGH        10.114  drugC\n",
       "3  41  M   LOW HIGH        11.037  drugC\n",
       "4  47  F   LOW HIGH        11.767  drugC\n",
       "5  23  M   LOW HIGH         7.298  drugC\n",
       "6  68  M   LOW HIGH        10.291  drugC\n",
       "7  26  F   LOW HIGH        14.160  drugC\n",
       "8  32  F   LOW HIGH         9.712  drugC\n",
       "9  47  F   LOW HIGH        10.067  drugC\n",
       "10 28  F   LOW HIGH        13.127  drugC\n",
       "11 22  M   LOW HIGH         8.151  drugC\n",
       "12 49  M   LOW HIGH        10.537  drugC\n",
       "13 59  F   LOW HIGH        10.444  drugC\n",
       "14 72  M   LOW HIGH         6.769  drugC\n",
       "15 56  F   LOW HIGH        11.567  drugC\n",
       "16 16  M   LOW HIGH        12.006  drugC"
      ]
     },
     "metadata": {},
     "output_type": "display_data"
    }
   ],
   "source": [
    "#Now suppose we want to see the data of only those who are using Drug C than we can use filter function()\n",
    "#\n",
    "mydata1 %>% filter(Drug==\"drugC\")-> drug_c\n",
    "drug_c"
   ]
  },
  {
   "cell_type": "code",
   "execution_count": 17,
   "id": "be973038",
   "metadata": {},
   "outputs": [
    {
     "data": {
      "image/png": "[encoded data removed]",
      "text/plain": [
       "Plot with title \"Histogram of mydata1$Age\""
      ]
     },
     "metadata": {},
     "output_type": "display_data"
    }
   ],
   "source": [
    "hist(mydata1$Age,col=3,breaks = 4)\n",
    "#We can see that 40-60 age group ppl are mostly dependt on drugs."
   ]
  },
  {
   "cell_type": "code",
   "execution_count": 18,
   "id": "861ed7d4",
   "metadata": {},
   "outputs": [
    {
     "name": "stdout",
     "output_type": "stream",
     "text": [
      "\n",
      "  There is a binary version available but the source version is later:\n",
      "        binary source needs_compilation\n",
      "moments   0.14 0.14.1             FALSE\n",
      "\n"
     ]
    },
    {
     "name": "stderr",
     "output_type": "stream",
     "text": [
      "installing the source package 'moments'\n",
      "\n"
     ]
    }
   ],
   "source": [
    "install.packages(\"moments\")\n",
    "library(\"moments\")"
   ]
  },
  {
   "cell_type": "code",
   "execution_count": 19,
   "id": "5853d669",
   "metadata": {},
   "outputs": [
    {
     "data": {
      "text/html": [
       "1.03152983035931"
      ],
      "text/latex": [
       "1.03152983035931"
      ],
      "text/markdown": [
       "1.03152983035931"
      ],
      "text/plain": [
       "[1] 1.03153"
      ]
     },
     "metadata": {},
     "output_type": "display_data"
    }
   ],
   "source": [
    "skewness(mydata1$Na_to_K)#We can see that 1.03 value states that our graph is asymmetrical"
   ]
  },
  {
   "cell_type": "code",
   "execution_count": 29,
   "id": "1c0d8166",
   "metadata": {},
   "outputs": [
    {
     "data": {
      "text/html": [
       "3.34069489761097"
      ],
      "text/latex": [
       "3.34069489761097"
      ],
      "text/markdown": [
       "3.34069489761097"
      ],
      "text/plain": [
       "[1] 3.340695"
      ]
     },
     "metadata": {},
     "output_type": "display_data"
    }
   ],
   "source": [
    "kurtosis(mydata1$Na_to_K)"
   ]
  },
  {
   "cell_type": "code",
   "execution_count": 20,
   "id": "5e176d33",
   "metadata": {},
   "outputs": [
    {
     "data": {
      "image/png": "[encoded data removed]",
      "text/plain": [
       "Plot with title \"Histogram of mydata1$Na_to_K\""
      ]
     },
     "metadata": {},
     "output_type": "display_data"
    }
   ],
   "source": [
    "hist(mydata1$Na_to_K,prob=TRUE,col = 5)\n",
    "lines(density(mydata1$Na_to_K),col = 2,lwd= 1)\n"
   ]
  },
  {
   "cell_type": "code",
   "execution_count": 21,
   "id": "e6d13a52",
   "metadata": {},
   "outputs": [
    {
     "data": {
      "image/png": "[encoded data removed]",
      "text/plain": [
       "Plot with title \"Age Boxplot\""
      ]
     },
     "metadata": {},
     "output_type": "display_data"
    }
   ],
   "source": [
    "#Box Plots\n",
    "#A box plot or boxplot is a method for graphically depicting groups of numerical data through their quartiles\n",
    "boxplot(mydata1$Age, main = 'Age Boxplot')"
   ]
  },
  {
   "cell_type": "code",
   "execution_count": 28,
   "id": "5abb6848",
   "metadata": {
    "scrolled": true
   },
   "outputs": [
    {
     "data": {
      "image/png": "[encoded data removed]",
      "text/plain": [
       "plot without title"
      ]
     },
     "metadata": {},
     "output_type": "display_data"
    }
   ],
   "source": [
    "ggplot(data=mydata1,aes(x=BP,y=Na_to_K))+geom_point(col=\"hotpink\")"
   ]
  },
  {
   "cell_type": "markdown",
   "id": "16076e4d",
   "metadata": {},
   "source": [
    "#Conclusion\n",
    "1.We have determined that User with data drug C are the ones with lowest BP\n",
    "2.We can see from the above graph that User with normal BP are having lowest Na to K present in their Drugs\n",
    "3.We have also determined that user having low BP are the ones with Highest Na to K present in Drugs\n",
    "4.As per our researach we can conculde that our Na_to_k coloum is positively skwed and its value is 1.03 an Kurtosis is 3.34\n",
    " "
   ]
  },
  {
   "cell_type": "code",
   "execution_count": null,
   "id": "70a9445c",
   "metadata": {},
   "outputs": [],
   "source": []
  }
 ],
 "metadata": {
  "kernelspec": {
   "display_name": "R",
   "language": "R",
   "name": "ir"
  },
  "language_info": {
   "codemirror_mode": "r",
   "file_extension": ".r",
   "mimetype": "text/x-r-source",
   "name": "R",
   "pygments_lexer": "r",
   "version": "3.6.1"
  }
 },
 "nbformat": 4,
 "nbformat_minor": 5
}
